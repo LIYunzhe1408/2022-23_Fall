{
 "cells": [
  {
   "cell_type": "markdown",
   "metadata": {},
   "source": [
    "# Socket Server"
   ]
  },
  {
   "cell_type": "code",
   "execution_count": 8,
   "metadata": {},
   "outputs": [],
   "source": [
    "import socketserver\n",
    "import socket\n",
    "import sys \n",
    "import threading\n",
    "import time\n",
    "import hmac\n",
    "import os"
   ]
  },
  {
   "cell_type": "code",
   "execution_count": 9,
   "metadata": {},
   "outputs": [],
   "source": [
    "def auth(conn):\n",
    "    msg = os.urandom(32)    # 生成一个随机的字符串\n",
    "    print(msg, len(msg))    # 32位\n",
    "    conn.send(msg)  # 发送到client端\n",
    "    result = hmac.new(secret_key, msg)  # 处理这个随机字符串，得到一个结果\n",
    "    client_digest = conn.recv(1024)     # 接收client端处理的结果\n",
    "    if result.hexdigest() == client_digest.decode('utf-8'):\n",
    "        print('是合法的连接')     # 对比成功可以继续通讯\n",
    "        return True\n",
    "    else:\n",
    "        print('不合法的连接')     # 不成功 close\n",
    "        return False"
   ]
  },
  {
   "cell_type": "code",
   "execution_count": null,
   "metadata": {},
   "outputs": [
    {
     "name": "stdout",
     "output_type": "stream",
     "text": [
      "waiting connection...\n"
     ]
    }
   ],
   "source": [
    "def socket_server():\n",
    "    try:\n",
    "        secret_key = b'alex_s'   # 相当于'盐'\n",
    "        # 首先调用socket函数创建一个socket\n",
    "        s = socket.socket(socket.AF_INET, socket.SOCK_STREAM)\n",
    "        # 防止socket server重启端口被占用（socket.error:[Errno 98] Address already in use）\n",
    "        s.setsockopt(socket.SOL_SOCKET, socket.SO_REUSEADDR, 1)\n",
    "        # 调用bind函数将其与本机地址以及一个端口号绑定\n",
    "        s.bind(('127.0.0.1', 6666))\n",
    "        # listen在相应的socket上监听\n",
    "        s.listen(10)\n",
    "    except socket.error as msg:\n",
    "        print(msg)\n",
    "        sys.exit(1)\n",
    "    print(\"waiting connection...\")\n",
    "    \n",
    "    while 1:\n",
    "        conn, addr = s.accept()\n",
    "        if auth(conn):\n",
    "            t = threading.Thread(target=deal_data, args=(conn, addr))\n",
    "            t.start()\n",
    "def deal_data(conn, addr):\n",
    "    print(\"Accept new connection from {0}\".format(addr))\n",
    "    conn.send((\"Welcome to the server.\").encode())\n",
    "    while 1:\n",
    "        data = conn.recv(1024)\n",
    "        print('{0} client send data is {1}'.format(addr, data.decode()))\n",
    "        time.sleep(1)\n",
    "        if data == 'exit' or not data:\n",
    "            print('{0} connection close.'.format(addr))\n",
    "            conn.send(bytes('Connetion closed!'), 'UTF-8')\n",
    "            break\n",
    "        conn.send(bytes('Hello, {0}'.format(data), 'UTF-8'))\n",
    "    conn.close()\n",
    "    \n",
    "if __name__ == '__main__':\n",
    "    socket_server()"
   ]
  },
  {
   "cell_type": "markdown",
   "metadata": {},
   "source": [
    "## 基于UDP"
   ]
  },
  {
   "cell_type": "code",
   "execution_count": null,
   "metadata": {},
   "outputs": [
    {
     "name": "stdout",
     "output_type": "stream",
     "text": [
      "ready\n",
      "b'HI'\n"
     ]
    }
   ],
   "source": [
    "from socket import *\n",
    "serverPort=12345\n",
    "serverSocket=socket(AF_INET,SOCK_DGRAM)\n",
    "serverSocket.bind(('127.0.0.1',serverPort))\n",
    "print('ready')\n",
    "while 1:\n",
    "    message,clientAddress=serverSocket.recvfrom(2048)\n",
    "    modifiedMessage=message.upper()\n",
    "    print(modifiedMessage)\n",
    "    serverSocket.sendto(modifiedMessage,clientAddress)"
   ]
  },
  {
   "cell_type": "markdown",
   "metadata": {},
   "source": [
    "## 验证合法性-Server"
   ]
  },
  {
   "cell_type": "code",
   "execution_count": 5,
   "metadata": {},
   "outputs": [
    {
     "name": "stdout",
     "output_type": "stream",
     "text": [
      "b'0Dbq\\xba\\xcb\\xbaTTA\\x82\\x00\\x16\\xbc\\x15_xf\\xc6UbJ=E\\x97do\\xd8D\\xe1Y\\x8a' 32\n"
     ]
    },
    {
     "ename": "TypeError",
     "evalue": "Missing required parameter 'digestmod'.",
     "output_type": "error",
     "traceback": [
      "\u001b[1;31m---------------------------------------------------------------------------\u001b[0m",
      "\u001b[1;31mTypeError\u001b[0m                                 Traceback (most recent call last)",
      "\u001b[1;32m~\\AppData\\Local\\Temp/ipykernel_34024/1198403884.py\u001b[0m in \u001b[0;36m<module>\u001b[1;34m\u001b[0m\n\u001b[0;32m     24\u001b[0m \u001b[0mconn\u001b[0m\u001b[1;33m,\u001b[0m \u001b[0maddr\u001b[0m \u001b[1;33m=\u001b[0m \u001b[0msk\u001b[0m\u001b[1;33m.\u001b[0m\u001b[0maccept\u001b[0m\u001b[1;33m(\u001b[0m\u001b[1;33m)\u001b[0m\u001b[1;33m\u001b[0m\u001b[1;33m\u001b[0m\u001b[0m\n\u001b[0;32m     25\u001b[0m \u001b[1;33m\u001b[0m\u001b[0m\n\u001b[1;32m---> 26\u001b[1;33m \u001b[1;32mif\u001b[0m \u001b[0mauth\u001b[0m\u001b[1;33m(\u001b[0m\u001b[0mconn\u001b[0m\u001b[1;33m)\u001b[0m\u001b[1;33m:\u001b[0m\u001b[1;33m\u001b[0m\u001b[1;33m\u001b[0m\u001b[0m\n\u001b[0m\u001b[0;32m     27\u001b[0m \u001b[1;33m\u001b[0m\u001b[0m\n\u001b[0;32m     28\u001b[0m     \u001b[0mprint\u001b[0m\u001b[1;33m(\u001b[0m\u001b[0mconn\u001b[0m\u001b[1;33m.\u001b[0m\u001b[0mrecv\u001b[0m\u001b[1;33m(\u001b[0m\u001b[1;36m1024\u001b[0m\u001b[1;33m)\u001b[0m\u001b[1;33m)\u001b[0m\u001b[1;33m\u001b[0m\u001b[1;33m\u001b[0m\u001b[0m\n",
      "\u001b[1;32m~\\AppData\\Local\\Temp/ipykernel_34024/1198403884.py\u001b[0m in \u001b[0;36mauth\u001b[1;34m(conn)\u001b[0m\n\u001b[0;32m      6\u001b[0m     \u001b[0mprint\u001b[0m\u001b[1;33m(\u001b[0m\u001b[0mmsg\u001b[0m\u001b[1;33m,\u001b[0m \u001b[0mlen\u001b[0m\u001b[1;33m(\u001b[0m\u001b[0mmsg\u001b[0m\u001b[1;33m)\u001b[0m\u001b[1;33m)\u001b[0m    \u001b[1;31m# 32位\u001b[0m\u001b[1;33m\u001b[0m\u001b[1;33m\u001b[0m\u001b[0m\n\u001b[0;32m      7\u001b[0m     \u001b[0mconn\u001b[0m\u001b[1;33m.\u001b[0m\u001b[0msend\u001b[0m\u001b[1;33m(\u001b[0m\u001b[0mmsg\u001b[0m\u001b[1;33m)\u001b[0m  \u001b[1;31m# 发送到client端\u001b[0m\u001b[1;33m\u001b[0m\u001b[1;33m\u001b[0m\u001b[0m\n\u001b[1;32m----> 8\u001b[1;33m     \u001b[0mresult\u001b[0m \u001b[1;33m=\u001b[0m \u001b[0mhmac\u001b[0m\u001b[1;33m.\u001b[0m\u001b[0mnew\u001b[0m\u001b[1;33m(\u001b[0m\u001b[0msecret_key\u001b[0m\u001b[1;33m,\u001b[0m \u001b[0mmsg\u001b[0m\u001b[1;33m)\u001b[0m  \u001b[1;31m# 处理这个随机字符串，得到一个结果\u001b[0m\u001b[1;33m\u001b[0m\u001b[1;33m\u001b[0m\u001b[0m\n\u001b[0m\u001b[0;32m      9\u001b[0m     \u001b[0mclient_digest\u001b[0m \u001b[1;33m=\u001b[0m \u001b[0mconn\u001b[0m\u001b[1;33m.\u001b[0m\u001b[0mrecv\u001b[0m\u001b[1;33m(\u001b[0m\u001b[1;36m1024\u001b[0m\u001b[1;33m)\u001b[0m     \u001b[1;31m# 接收client端处理的结果\u001b[0m\u001b[1;33m\u001b[0m\u001b[1;33m\u001b[0m\u001b[0m\n\u001b[0;32m     10\u001b[0m     \u001b[1;32mif\u001b[0m \u001b[0mresult\u001b[0m\u001b[1;33m.\u001b[0m\u001b[0mhexdigest\u001b[0m\u001b[1;33m(\u001b[0m\u001b[1;33m)\u001b[0m \u001b[1;33m==\u001b[0m \u001b[0mclient_digest\u001b[0m\u001b[1;33m.\u001b[0m\u001b[0mdecode\u001b[0m\u001b[1;33m(\u001b[0m\u001b[1;34m'utf-8'\u001b[0m\u001b[1;33m)\u001b[0m\u001b[1;33m:\u001b[0m\u001b[1;33m\u001b[0m\u001b[1;33m\u001b[0m\u001b[0m\n",
      "\u001b[1;32mE:\\Anaconda\\lib\\hmac.py\u001b[0m in \u001b[0;36mnew\u001b[1;34m(key, msg, digestmod)\u001b[0m\n\u001b[0;32m    168\u001b[0m     \u001b[1;32mor\u001b[0m \u001b[0mhexdigest\u001b[0m\u001b[1;33m(\u001b[0m\u001b[1;33m)\u001b[0m \u001b[0mmethods\u001b[0m\u001b[1;33m.\u001b[0m\u001b[1;33m\u001b[0m\u001b[1;33m\u001b[0m\u001b[0m\n\u001b[0;32m    169\u001b[0m     \"\"\"\n\u001b[1;32m--> 170\u001b[1;33m     \u001b[1;32mreturn\u001b[0m \u001b[0mHMAC\u001b[0m\u001b[1;33m(\u001b[0m\u001b[0mkey\u001b[0m\u001b[1;33m,\u001b[0m \u001b[0mmsg\u001b[0m\u001b[1;33m,\u001b[0m \u001b[0mdigestmod\u001b[0m\u001b[1;33m)\u001b[0m\u001b[1;33m\u001b[0m\u001b[1;33m\u001b[0m\u001b[0m\n\u001b[0m\u001b[0;32m    171\u001b[0m \u001b[1;33m\u001b[0m\u001b[0m\n\u001b[0;32m    172\u001b[0m \u001b[1;33m\u001b[0m\u001b[0m\n",
      "\u001b[1;32mE:\\Anaconda\\lib\\hmac.py\u001b[0m in \u001b[0;36m__init__\u001b[1;34m(self, key, msg, digestmod)\u001b[0m\n\u001b[0;32m     54\u001b[0m \u001b[1;33m\u001b[0m\u001b[0m\n\u001b[0;32m     55\u001b[0m         \u001b[1;32mif\u001b[0m \u001b[1;32mnot\u001b[0m \u001b[0mdigestmod\u001b[0m\u001b[1;33m:\u001b[0m\u001b[1;33m\u001b[0m\u001b[1;33m\u001b[0m\u001b[0m\n\u001b[1;32m---> 56\u001b[1;33m             \u001b[1;32mraise\u001b[0m \u001b[0mTypeError\u001b[0m\u001b[1;33m(\u001b[0m\u001b[1;34m\"Missing required parameter 'digestmod'.\"\u001b[0m\u001b[1;33m)\u001b[0m\u001b[1;33m\u001b[0m\u001b[1;33m\u001b[0m\u001b[0m\n\u001b[0m\u001b[0;32m     57\u001b[0m \u001b[1;33m\u001b[0m\u001b[0m\n\u001b[0;32m     58\u001b[0m         \u001b[1;32mif\u001b[0m \u001b[0mcallable\u001b[0m\u001b[1;33m(\u001b[0m\u001b[0mdigestmod\u001b[0m\u001b[1;33m)\u001b[0m\u001b[1;33m:\u001b[0m\u001b[1;33m\u001b[0m\u001b[1;33m\u001b[0m\u001b[0m\n",
      "\u001b[1;31mTypeError\u001b[0m: Missing required parameter 'digestmod'."
     ]
    }
   ],
   "source": [
    "import os\n",
    "import hmac\n",
    "import socket\n",
    "def auth(conn):\n",
    "    msg = os.urandom(32)    # 生成一个随机的字符串\n",
    "    print(msg, len(msg))    # 32位\n",
    "    conn.send(msg)  # 发送到client端\n",
    "    result = hmac.new(secret_key, msg)  # 处理这个随机字符串，得到一个结果\n",
    "    client_digest = conn.recv(1024)     # 接收client端处理的结果\n",
    "    if result.hexdigest() == client_digest.decode('utf-8'):\n",
    "        print('是合法的连接')     # 对比成功可以继续通讯\n",
    "        return True\n",
    "    else:\n",
    "        print('不合法的连接')     # 不成功 close\n",
    "        return False\n",
    "secret_key = b'alex_s'   # 相当于'盐'\n",
    "\n",
    "sk = socket.socket()\n",
    "\n",
    "sk.bind(('127.0.0.1', 9000))\n",
    "\n",
    "sk.listen()\n",
    "\n",
    "conn, addr = sk.accept()\n",
    "\n",
    "if auth(conn):\n",
    "\n",
    "    print(conn.recv(1024))\n",
    "\n",
    "    # 正常的和client端进行沟通\n",
    "\n",
    "    conn.close()\n",
    "\n",
    "else:\n",
    "\n",
    "    conn.close()\n",
    "\n",
    "sk.close()"
   ]
  }
 ],
 "metadata": {
  "kernelspec": {
   "display_name": "Python 3 (ipykernel)",
   "language": "python",
   "name": "python3"
  },
  "language_info": {
   "codemirror_mode": {
    "name": "ipython",
    "version": 3
   },
   "file_extension": ".py",
   "mimetype": "text/x-python",
   "name": "python",
   "nbconvert_exporter": "python",
   "pygments_lexer": "ipython3",
   "version": "3.9.7"
  }
 },
 "nbformat": 4,
 "nbformat_minor": 2
}
