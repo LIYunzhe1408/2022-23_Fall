{
 "cells": [
  {
   "cell_type": "markdown",
   "metadata": {},
   "source": [
    "# Socket Client"
   ]
  },
  {
   "cell_type": "markdown",
   "metadata": {},
   "source": [
    "### Reference\n",
    "https://blog.csdn.net/qq_37193537/article/details/91043580"
   ]
  },
  {
   "cell_type": "code",
   "execution_count": 1,
   "metadata": {},
   "outputs": [],
   "source": [
    "import socketserver\n",
    "import socket\n",
    "import sys \n",
    "import threading\n",
    "import time"
   ]
  },
  {
   "cell_type": "code",
   "execution_count": null,
   "metadata": {},
   "outputs": [
    {
     "name": "stdout",
     "output_type": "stream",
     "text": [
      "b'Welcome to the server.'\n",
      "please input work: Hi kkk\n",
      "aa b\"Hello, b'Hi kkk'\"\n",
      "please input work: Jonas\n",
      "aa b\"Hello, b'Jonas'\"\n"
     ]
    }
   ],
   "source": [
    "def socket_client():\n",
    "    try:\n",
    "        s = socket.socket(socket.AF_INET, socket.SOCK_STREAM)\n",
    "        s.connect(('127.0.0.1',6666))\n",
    "    except socket.error as msg:\n",
    "        print(msg)\n",
    "        sys.exit(1)\n",
    "    print(s.recv(1024))\n",
    "    while 1:\n",
    "        data = input(\"please input work: \").encode()\n",
    "        s.send(data)\n",
    "        print('aa', s.recv(1024))\n",
    "        if data == 'exit':\n",
    "            break\n",
    "    s.close\n",
    "    \n",
    "if __name__ == '__main__':\n",
    "    socket_client()"
   ]
  }
 ],
 "metadata": {
  "kernelspec": {
   "display_name": "Python 3 (ipykernel)",
   "language": "python",
   "name": "python3"
  },
  "language_info": {
   "codemirror_mode": {
    "name": "ipython",
    "version": 3
   },
   "file_extension": ".py",
   "mimetype": "text/x-python",
   "name": "python",
   "nbconvert_exporter": "python",
   "pygments_lexer": "ipython3",
   "version": "3.9.7"
  }
 },
 "nbformat": 4,
 "nbformat_minor": 2
}
