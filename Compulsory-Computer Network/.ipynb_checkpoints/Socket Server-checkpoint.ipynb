{
 "cells": [
  {
   "cell_type": "markdown",
   "metadata": {},
   "source": [
    "# Socket Server"
   ]
  },
  {
   "cell_type": "code",
   "execution_count": null,
   "metadata": {},
   "outputs": [],
   "source": [
    "import socketserver\n",
    "import socket\n",
    "import sys \n",
    "import threading\n",
    "import time\n",
    "import hmac"
   ]
  },
  {
   "cell_type": "code",
   "execution_count": null,
   "metadata": {},
   "outputs": [],
   "source": [
    "def auth(sk):\n",
    "     msg = os.urandom(32)    # 生成一个随机的字符串\n",
    "        print(msg, len(msg))    # 32位\n",
    "        conn.send(msg)  # 发送到client端\n",
    "        result = hmac.new(secret_key, msg)  # 处理这个随机字符串，得到一个结果\n",
    "        client_digest = conn.recv(1024)     # 接收client端处理的结果\n",
    "        if result.hexdigest() == client_digest.decode('utf-8'):\n",
    "            print('是合法的连接')     # 对比成功可以继续通讯\n",
    "            return True\n",
    "        else:\n",
    "            print('不合法的连接')     # 不成功 close\n",
    "            return False"
   ]
  },
  {
   "cell_type": "code",
   "execution_count": null,
   "metadata": {},
   "outputs": [
    {
     "name": "stdout",
     "output_type": "stream",
     "text": [
      "waiting connection...\n",
      "Accept new connection from ('127.0.0.1', 55776)\n",
      "('127.0.0.1', 55776) client send data is Hi kkk\n",
      "('127.0.0.1', 55776) client send data is Jonas\n"
     ]
    }
   ],
   "source": [
    "def socket_server():\n",
    "    try:\n",
    "        secret_key = b'alex_s'   # 相当于'盐'\n",
    "        # 首先调用socket函数创建一个socket\n",
    "        s = socket.socket(socket.AF_INET, socket.SOCK_STREAM)\n",
    "        # 防止socket server重启端口被占用（socket.error:[Errno 98] Address already in use）\n",
    "        s.setsockopt(socket.SOL_SOCKET, socket.SO_REUSEADDR, 1)\n",
    "        # 调用bind函数将其与本机地址以及一个端口号绑定\n",
    "        s.bind(('127.0.0.1', 6666))\n",
    "        # listen在相应的socket上监听\n",
    "        s.listen(10)\n",
    "    except socket.error as msg:\n",
    "        print(msg)\n",
    "        sys.exit(1)\n",
    "    print(\"waiting connection...\")\n",
    "    \n",
    "    while 1:\n",
    "        conn, addr = s.accept()\n",
    "        t = threading.Thread(target=deal_data, args=(conn, addr))\n",
    "        t.start()\n",
    "def deal_data(conn, addr):\n",
    "    print(\"Accept new connection from {0}\".format(addr))\n",
    "    conn.send((\"Welcome to the server.\").encode())\n",
    "    while 1:\n",
    "        data = conn.recv(1024)\n",
    "        print('{0} client send data is {1}'.format(addr, data.decode()))\n",
    "        time.sleep(1)\n",
    "        if data == 'exit' or not data:\n",
    "            print('{0} connection close.'.format(addr))\n",
    "            conn.send(bytes('Connetion closed!'), 'UTF-8')\n",
    "            break\n",
    "        conn.send(bytes('Hello, {0}'.format(data), 'UTF-8'))\n",
    "    conn.close()\n",
    "    \n",
    "if __name__ == '__main__':\n",
    "    socket_server()"
   ]
  },
  {
   "cell_type": "markdown",
   "metadata": {},
   "source": [
    "## 基于UDP"
   ]
  },
  {
   "cell_type": "code",
   "execution_count": null,
   "metadata": {},
   "outputs": [
    {
     "name": "stdout",
     "output_type": "stream",
     "text": [
      "ready\n",
      "b'HI'\n"
     ]
    }
   ],
   "source": [
    "from socket import *\n",
    "serverPort=12345\n",
    "serverSocket=socket(AF_INET,SOCK_DGRAM)\n",
    "serverSocket.bind(('127.0.0.1',serverPort))\n",
    "print('ready')\n",
    "while 1:\n",
    "    message,clientAddress=serverSocket.recvfrom(2048)\n",
    "    modifiedMessage=message.upper()\n",
    "    print(modifiedMessage)\n",
    "    serverSocket.sendto(modifiedMessage,clientAddress)"
   ]
  }
 ],
 "metadata": {
  "kernelspec": {
   "display_name": "Python 3 (ipykernel)",
   "language": "python",
   "name": "python3"
  },
  "language_info": {
   "codemirror_mode": {
    "name": "ipython",
    "version": 3
   },
   "file_extension": ".py",
   "mimetype": "text/x-python",
   "name": "python",
   "nbconvert_exporter": "python",
   "pygments_lexer": "ipython3",
   "version": "3.9.7"
  }
 },
 "nbformat": 4,
 "nbformat_minor": 2
}
