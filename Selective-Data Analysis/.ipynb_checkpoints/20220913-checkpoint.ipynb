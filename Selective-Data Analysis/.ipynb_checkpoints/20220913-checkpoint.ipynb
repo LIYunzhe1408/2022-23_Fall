{
 "cells": [
  {
   "cell_type": "markdown",
   "id": "59348509",
   "metadata": {},
   "source": [
    "## tuple"
   ]
  },
  {
   "cell_type": "code",
   "execution_count": 2,
   "id": "bddfc8bd",
   "metadata": {},
   "outputs": [
    {
     "name": "stdout",
     "output_type": "stream",
     "text": [
      "a\n",
      "('a', '1', 'xx')\n"
     ]
    }
   ],
   "source": [
    "a_tuple = ('a')\n",
    "print(a_tuple)\n",
    "a_tuple = ('a', '1', 'xx')\n",
    "print(a_tuple)"
   ]
  },
  {
   "cell_type": "code",
   "execution_count": 3,
   "id": "75aa7215",
   "metadata": {},
   "outputs": [
    {
     "name": "stdout",
     "output_type": "stream",
     "text": [
      "('a', 'b', 'c', 'd', 'e', 'f', 'g')\n"
     ]
    }
   ],
   "source": [
    "print(tuple('abcdefg'))"
   ]
  },
  {
   "cell_type": "code",
   "execution_count": 4,
   "id": "e793b201",
   "metadata": {},
   "outputs": [
    {
     "name": "stdout",
     "output_type": "stream",
     "text": [
      "(1, 2, 3, 4, -98)\n"
     ]
    }
   ],
   "source": [
    "a_list = [1, 2, 3, 4, -98]\n",
    "a_tuple = tuple(a_list)\n",
    "print(a_tuple)"
   ]
  },
  {
   "cell_type": "code",
   "execution_count": 6,
   "id": "577b0665",
   "metadata": {},
   "outputs": [
    {
     "ename": "SyntaxError",
     "evalue": "cannot delete function call (Temp/ipykernel_19212/3564063749.py, line 1)",
     "output_type": "error",
     "traceback": [
      "\u001b[1;36m  File \u001b[1;32m\"C:\\Users\\16690\\AppData\\Local\\Temp/ipykernel_19212/3564063749.py\"\u001b[1;36m, line \u001b[1;32m1\u001b[0m\n\u001b[1;33m    del a_tuple(0)\u001b[0m\n\u001b[1;37m        ^\u001b[0m\n\u001b[1;31mSyntaxError\u001b[0m\u001b[1;31m:\u001b[0m cannot delete function call\n"
     ]
    }
   ],
   "source": [
    "del a_tuple(0)"
   ]
  },
  {
   "cell_type": "code",
   "execution_count": 8,
   "id": "25bd327e",
   "metadata": {},
   "outputs": [
    {
     "ename": "NameError",
     "evalue": "name 'a_tuple' is not defined",
     "output_type": "error",
     "traceback": [
      "\u001b[1;31m---------------------------------------------------------------------------\u001b[0m",
      "\u001b[1;31mNameError\u001b[0m                                 Traceback (most recent call last)",
      "\u001b[1;32m~\\AppData\\Local\\Temp/ipykernel_19212/1119046425.py\u001b[0m in \u001b[0;36m<module>\u001b[1;34m\u001b[0m\n\u001b[1;32m----> 1\u001b[1;33m \u001b[1;32mdel\u001b[0m \u001b[0ma_tuple\u001b[0m\u001b[1;33m\u001b[0m\u001b[1;33m\u001b[0m\u001b[0m\n\u001b[0m\u001b[0;32m      2\u001b[0m \u001b[0mprint\u001b[0m\u001b[1;33m(\u001b[0m\u001b[0ma_tuple\u001b[0m\u001b[1;33m)\u001b[0m\u001b[1;33m\u001b[0m\u001b[1;33m\u001b[0m\u001b[0m\n",
      "\u001b[1;31mNameError\u001b[0m: name 'a_tuple' is not defined"
     ]
    }
   ],
   "source": [
    "del a_tuple\n",
    "print(a_tuple)"
   ]
  },
  {
   "cell_type": "markdown",
   "id": "9573ab2d",
   "metadata": {},
   "source": [
    "- Data in tuple can't be revised once defined.\n",
    "- So there's no `append()`, `extend()`, `insert()`, `remove()`, `pop()`\n",
    "- To see its effect, tuple() freeze a list, list() melts a tuple"
   ]
  },
  {
   "cell_type": "markdown",
   "id": "10bbcb47",
   "metadata": {},
   "source": [
    "If just need to traverse, tuple is better and better to protect data. So tuple can be keys of dict, while list can't."
   ]
  },
  {
   "cell_type": "markdown",
   "id": "45849907",
   "metadata": {},
   "source": [
    "## 序列解包\n",
    "Value several variables at one time. "
   ]
  },
  {
   "cell_type": "code",
   "execution_count": 18,
   "id": "1850051b",
   "metadata": {},
   "outputs": [
    {
     "name": "stdout",
     "output_type": "stream",
     "text": [
      "1 2 3\n"
     ]
    },
    {
     "ename": "TypeError",
     "evalue": "cannot unpack non-iterable builtin_function_or_method object",
     "output_type": "error",
     "traceback": [
      "\u001b[1;31m---------------------------------------------------------------------------\u001b[0m",
      "\u001b[1;31mTypeError\u001b[0m                                 Traceback (most recent call last)",
      "\u001b[1;32m~\\AppData\\Local\\Temp/ipykernel_19212/2234593895.py\u001b[0m in \u001b[0;36m<module>\u001b[1;34m\u001b[0m\n\u001b[0;32m      4\u001b[0m \u001b[1;31m# It also works for value with a dict\u001b[0m\u001b[1;33m\u001b[0m\u001b[1;33m\u001b[0m\u001b[0m\n\u001b[0;32m      5\u001b[0m \u001b[0ms\u001b[0m \u001b[1;33m=\u001b[0m \u001b[1;33m{\u001b[0m\u001b[1;34m'a'\u001b[0m\u001b[1;33m:\u001b[0m\u001b[1;36m1\u001b[0m\u001b[1;33m,\u001b[0m \u001b[1;34m'b'\u001b[0m\u001b[1;33m:\u001b[0m\u001b[1;36m2\u001b[0m\u001b[1;33m,\u001b[0m \u001b[1;34m'c'\u001b[0m\u001b[1;33m:\u001b[0m\u001b[1;36m3\u001b[0m\u001b[1;33m}\u001b[0m\u001b[1;33m\u001b[0m\u001b[1;33m\u001b[0m\u001b[0m\n\u001b[1;32m----> 6\u001b[1;33m \u001b[0mb\u001b[0m\u001b[1;33m,\u001b[0m \u001b[0mc\u001b[0m\u001b[1;33m,\u001b[0m \u001b[0md\u001b[0m \u001b[1;33m=\u001b[0m \u001b[0ms\u001b[0m\u001b[1;33m.\u001b[0m\u001b[0mvalues\u001b[0m\u001b[1;33m\u001b[0m\u001b[1;33m\u001b[0m\u001b[0m\n\u001b[0m\u001b[0;32m      7\u001b[0m \u001b[0mprint\u001b[0m\u001b[1;33m(\u001b[0m\u001b[0mb\u001b[0m\u001b[1;33m,\u001b[0m \u001b[0mc\u001b[0m\u001b[1;33m,\u001b[0m \u001b[0md\u001b[0m\u001b[1;33m)\u001b[0m\u001b[1;33m\u001b[0m\u001b[1;33m\u001b[0m\u001b[0m\n",
      "\u001b[1;31mTypeError\u001b[0m: cannot unpack non-iterable builtin_function_or_method object"
     ]
    }
   ],
   "source": [
    "x, y, z = 1, 2, 3\n",
    "print(x, y, z)\n",
    "\n",
    "# It also works for value with a dict\n",
    "s = {'a':1, 'b':2, 'c':3}\n",
    "b, c, d = s.values\n",
    "print(b, c, d)"
   ]
  },
  {
   "cell_type": "code",
   "execution_count": 10,
   "id": "6c14d1d8",
   "metadata": {},
   "outputs": [
    {
     "name": "stdout",
     "output_type": "stream",
     "text": [
      "a 1\n",
      "b 2\n",
      "c 3\n",
      "d 4\n"
     ]
    }
   ],
   "source": [
    "keys = ['a', 'b', 'c', 'd']\n",
    "values = [1, 2, 3, 4]\n",
    "for k, v in zip(keys, values):\n",
    "    print(k, v)"
   ]
  },
  {
   "cell_type": "code",
   "execution_count": 15,
   "id": "4546518f",
   "metadata": {},
   "outputs": [
    {
     "name": "stdout",
     "output_type": "stream",
     "text": [
      "<zip object at 0x000001A40FC0D900>\n",
      "0 (1, 4, 7)\n",
      "1 (2, 5, 8)\n",
      "2 (3, 6, 9)\n"
     ]
    }
   ],
   "source": [
    "aList = [1, 2, 3]\n",
    "bList = [4, 5, 6]\n",
    "clist = [7, 8, 9]\n",
    "dList = zip(aList, bList, clist)\n",
    "print(dList)\n",
    "for index, value in enumerate (dList):\n",
    "    print(index, value)"
   ]
  },
  {
   "cell_type": "markdown",
   "id": "7924842d",
   "metadata": {},
   "source": [
    "## 生成器推导式"
   ]
  },
  {
   "cell_type": "code",
   "execution_count": 28,
   "id": "a2d672b2",
   "metadata": {},
   "outputs": [
    {
     "name": "stdout",
     "output_type": "stream",
     "text": [
      "<generator object <genexpr> at 0x000001A40FAF8890>\n"
     ]
    },
    {
     "data": {
      "text/plain": [
       "9"
      ]
     },
     "execution_count": 28,
     "metadata": {},
     "output_type": "execute_result"
    }
   ],
   "source": [
    "g = ((i+2)**2 for i in range(10))\n",
    "print(g)\n",
    "g.__next__()\n",
    "g.__next__()\n",
    "# tuple(g)\n",
    "# tuple(g) # 这一步g的生存周期已经使用过"
   ]
  },
  {
   "cell_type": "code",
   "execution_count": 21,
   "id": "62acfdf0",
   "metadata": {},
   "outputs": [
    {
     "data": {
      "text/plain": [
       "[4, 9, 16, 25, 36, 49, 64, 81, 100, 121]"
      ]
     },
     "execution_count": 21,
     "metadata": {},
     "output_type": "execute_result"
    }
   ],
   "source": [
    "g = [(i+2)**2 for i in range(10)]\n",
    "g"
   ]
  },
  {
   "cell_type": "markdown",
   "id": "23f4f70f",
   "metadata": {},
   "source": [
    "## Dict\n",
    "\n",
    "- key paired with value\n",
    "- unordered, changable 集合（元素不重复）\n",
    "- `globals()` return dict of all global variables and their values\n",
    "- `locals()` return dict of all local variables and their values"
   ]
  },
  {
   "cell_type": "code",
   "execution_count": 30,
   "id": "d722c850",
   "metadata": {},
   "outputs": [
    {
     "data": {
      "text/plain": [
       "{'server': 'www.baidu.com', 'database': 'mySQL'}"
      ]
     },
     "execution_count": 30,
     "metadata": {},
     "output_type": "execute_result"
    }
   ],
   "source": [
    "a_dict = {'server': 'www.baidu.com', 'database': 'mySQL'}\n",
    "a_dict"
   ]
  },
  {
   "cell_type": "code",
   "execution_count": 50,
   "id": "3afd0af3",
   "metadata": {},
   "outputs": [
    {
     "data": {
      "text/plain": [
       "{'a': [1], 'b': 2, 'c': 3, 'd': 4}"
      ]
     },
     "execution_count": 50,
     "metadata": {},
     "output_type": "execute_result"
    }
   ],
   "source": [
    "keys = ['a', 'b', 'c', 'd']\n",
    "values = [[1], 2, 3, 4]\n",
    "b_dict = dict(zip(keys, values)) # zip returns a list of elements on corresponding position\n",
    "b_dict"
   ]
  },
  {
   "cell_type": "code",
   "execution_count": 32,
   "id": "3a27bbb6",
   "metadata": {},
   "outputs": [
    {
     "name": "stdout",
     "output_type": "stream",
     "text": [
      "{'name': None, 'age': None, 'gender': None}\n"
     ]
    },
    {
     "ename": "NameError",
     "evalue": "name 'c_dict' is not defined",
     "output_type": "error",
     "traceback": [
      "\u001b[1;31m---------------------------------------------------------------------------\u001b[0m",
      "\u001b[1;31mNameError\u001b[0m                                 Traceback (most recent call last)",
      "\u001b[1;32m~\\AppData\\Local\\Temp/ipykernel_19212/3650747897.py\u001b[0m in \u001b[0;36m<module>\u001b[1;34m\u001b[0m\n\u001b[0;32m      2\u001b[0m \u001b[0mprint\u001b[0m\u001b[1;33m(\u001b[0m\u001b[0mc_dict\u001b[0m\u001b[1;33m)\u001b[0m\u001b[1;33m\u001b[0m\u001b[1;33m\u001b[0m\u001b[0m\n\u001b[0;32m      3\u001b[0m \u001b[1;32mdel\u001b[0m \u001b[0mc_dict\u001b[0m\u001b[1;33m\u001b[0m\u001b[1;33m\u001b[0m\u001b[0m\n\u001b[1;32m----> 4\u001b[1;33m \u001b[0mprint\u001b[0m\u001b[1;33m(\u001b[0m\u001b[0mc_dict\u001b[0m\u001b[1;33m)\u001b[0m\u001b[1;33m\u001b[0m\u001b[1;33m\u001b[0m\u001b[0m\n\u001b[0m",
      "\u001b[1;31mNameError\u001b[0m: name 'c_dict' is not defined"
     ]
    }
   ],
   "source": [
    "c_dict = dict.fromkeys(['name', 'age', 'gender'])\n",
    "print(c_dict)\n",
    "del c_dict\n",
    "print(c_dict)"
   ]
  },
  {
   "cell_type": "code",
   "execution_count": 51,
   "id": "75370102",
   "metadata": {},
   "outputs": [],
   "source": [
    "# 元素修改\n",
    "b_dict['a']\n",
    "b_dict['a'].append(2)"
   ]
  },
  {
   "cell_type": "code",
   "execution_count": 52,
   "id": "81a24424",
   "metadata": {},
   "outputs": [
    {
     "name": "stdout",
     "output_type": "stream",
     "text": [
      "NONE\n"
     ]
    }
   ],
   "source": [
    "# 字典元素读取\n",
    "print(b_dict.get('e', 'NONE'))"
   ]
  },
  {
   "cell_type": "markdown",
   "id": "8367ef4b",
   "metadata": {},
   "source": [
    "- `items()`\n",
    "- `keys()`\n",
    "- `values()`"
   ]
  },
  {
   "cell_type": "code",
   "execution_count": 53,
   "id": "082552ae",
   "metadata": {},
   "outputs": [
    {
     "name": "stdout",
     "output_type": "stream",
     "text": [
      "dict_items([('a', [1, 2]), ('b', 2), ('c', 3), ('d', 4)])\n",
      "dict_keys(['a', 'b', 'c', 'd'])\n",
      "dict_values([[1, 2], 2, 3, 4])\n",
      "a [1, 2]\n",
      "b 2\n",
      "c 3\n",
      "d 4\n"
     ]
    }
   ],
   "source": [
    "print(b_dict.items())\n",
    "print(b_dict.keys())\n",
    "print(b_dict.values())\n",
    "for key, value in b_dict.items():\n",
    "    print(key, value)"
   ]
  },
  {
   "cell_type": "markdown",
   "id": "90a0e387",
   "metadata": {},
   "source": [
    "`update()`"
   ]
  },
  {
   "cell_type": "code",
   "execution_count": 55,
   "id": "faf683a8",
   "metadata": {},
   "outputs": [
    {
     "data": {
      "text/plain": [
       "{'a': [1, 2], 'b': 2, 'c': 3, 'd': 4, 'name': 'Jonas', 'age': '21'}"
      ]
     },
     "execution_count": 55,
     "metadata": {},
     "output_type": "execute_result"
    }
   ],
   "source": [
    "b_dict.update({'name': 'Jonas', 'age':'21'})\n",
    "b_dict"
   ]
  },
  {
   "cell_type": "markdown",
   "id": "c62d805b",
   "metadata": {},
   "source": [
    "- `del`\n",
    "- `clear`\n",
    "- `pop`     del one specific item(one argument, key), return value\n",
    "- `popitem` del last element, return item"
   ]
  },
  {
   "cell_type": "code",
   "execution_count": 71,
   "id": "7bb5e5c7",
   "metadata": {},
   "outputs": [
    {
     "name": "stdout",
     "output_type": "stream",
     "text": [
      "{'a': [1, 2], 'b': 3, 'c': 4, 'd': 5, 'name': 'Jonas', 'age': 21}\n",
      "4\n",
      "{'a': [1, 2], 'b': 3, 'd': 5, 'name': 'Jonas', 'age': 21}\n"
     ]
    },
    {
     "ename": "TypeError",
     "evalue": "dict.popitem() takes no arguments (1 given)",
     "output_type": "error",
     "traceback": [
      "\u001b[1;31m---------------------------------------------------------------------------\u001b[0m",
      "\u001b[1;31mTypeError\u001b[0m                                 Traceback (most recent call last)",
      "\u001b[1;32m~\\AppData\\Local\\Temp/ipykernel_19212/2092545298.py\u001b[0m in \u001b[0;36m<module>\u001b[1;34m\u001b[0m\n\u001b[0;32m      6\u001b[0m \u001b[1;33m\u001b[0m\u001b[0m\n\u001b[0;32m      7\u001b[0m \u001b[1;33m\u001b[0m\u001b[0m\n\u001b[1;32m----> 8\u001b[1;33m \u001b[0mprint\u001b[0m\u001b[1;33m(\u001b[0m\u001b[0mb_dict_copy\u001b[0m\u001b[1;33m.\u001b[0m\u001b[0mpopitem\u001b[0m\u001b[1;33m(\u001b[0m\u001b[1;34m'a'\u001b[0m\u001b[1;33m)\u001b[0m\u001b[1;33m)\u001b[0m\u001b[1;33m\u001b[0m\u001b[1;33m\u001b[0m\u001b[0m\n\u001b[0m",
      "\u001b[1;31mTypeError\u001b[0m: dict.popitem() takes no arguments (1 given)"
     ]
    }
   ],
   "source": [
    "b_dict_copy = {'a':[1, 2], 'b':3, 'c':4, 'd':5, 'name':'Jonas', 'age': 21}\n",
    "b_dict = b_dict_copy\n",
    "print(b_dict_copy)\n",
    "print(b_dict_copy.pop('c'))\n",
    "print(b_dict_copy)\n",
    "\n",
    "\n",
    "print(b_dict_copy.popitem())"
   ]
  },
  {
   "cell_type": "markdown",
   "id": "09680c6b",
   "metadata": {},
   "source": [
    "### Ordered dict\n",
    "- ```import collections```\n",
    "- ```x = collentions.OrderedDict()```"
   ]
  },
  {
   "cell_type": "markdown",
   "id": "c2fb73f7",
   "metadata": {},
   "source": [
    "### 字典推导式"
   ]
  },
  {
   "cell_type": "code",
   "execution_count": 61,
   "id": "d944adad",
   "metadata": {},
   "outputs": [
    {
     "data": {
      "text/plain": [
       "{'he': 'he', 'she': 'she', 'I': 'I'}"
      ]
     },
     "execution_count": 61,
     "metadata": {},
     "output_type": "execute_result"
    }
   ],
   "source": [
    "s = {x:x.strip() for x in ('he', 'she', 'I')}\n",
    "s"
   ]
  },
  {
   "cell_type": "markdown",
   "id": "c4209219",
   "metadata": {},
   "source": [
    "## 集合\n",
    "Unordered, changable"
   ]
  },
  {
   "cell_type": "code",
   "execution_count": 67,
   "id": "99d8495e",
   "metadata": {},
   "outputs": [
    {
     "data": {
      "text/plain": [
       "set"
      ]
     },
     "execution_count": 67,
     "metadata": {},
     "output_type": "execute_result"
    }
   ],
   "source": [
    "a = {3, 5}\n",
    "a.add(7)\n",
    "type(a)"
   ]
  },
  {
   "cell_type": "markdown",
   "id": "03b2ce3e",
   "metadata": {},
   "source": [
    "- `pop()` no argument\n",
    "- `add()`\n",
    "- `remove(one argument)` to delete one specific element\n",
    "- `union()`\n",
    "- `intersection()` 交集\n",
    "- `difference()` 差集\n",
    "- `sysmmetric_difference()` 对称差\n",
    "- `issubset(x)` \n",
    "- `isuperset(x)`\n",
    "- `isdisjoint()`\n",
    "- ..."
   ]
  },
  {
   "cell_type": "markdown",
   "id": "aadfd5af",
   "metadata": {},
   "source": [
    "## join"
   ]
  },
  {
   "cell_type": "code",
   "execution_count": 80,
   "id": "f9eeca32",
   "metadata": {},
   "outputs": [
    {
     "name": "stdout",
     "output_type": "stream",
     "text": [
      "srm-robomaster-championship\n"
     ]
    }
   ],
   "source": [
    "symbol = '-'\n",
    "x_list = (\"srm\", \"robomaster\", \"championship\")\n",
    "print(symbol.join(x_list))"
   ]
  },
  {
   "cell_type": "markdown",
   "id": "1ba691ca",
   "metadata": {},
   "source": [
    "## upper & lower"
   ]
  },
  {
   "cell_type": "code",
   "execution_count": 82,
   "id": "ade10adb",
   "metadata": {},
   "outputs": [
    {
     "data": {
      "text/plain": [
       "'YES'"
      ]
     },
     "execution_count": 82,
     "metadata": {},
     "output_type": "execute_result"
    }
   ],
   "source": [
    "endflag = 'yes'\n",
    "endflag.upper()"
   ]
  },
  {
   "cell_type": "code",
   "execution_count": 96,
   "id": "9370d969",
   "metadata": {},
   "outputs": [
    {
     "name": "stdout",
     "output_type": "stream",
     "text": [
      "2729.715347290039\n",
      "2941.8270587921143\n"
     ]
    }
   ],
   "source": [
    "import math\n",
    "import time\n",
    "\n",
    "\n",
    "start = time.time()\n",
    "for x in range(10000000):\n",
    "    math.sin(x)\n",
    "print((time.time() - start)*1000)\n",
    "\n",
    "\n",
    "loc_sin = math.sin\n",
    "start_2 = time.time()\n",
    "for i in range(10000000):\n",
    "    loc_sin(i)\n",
    "print((time.time() - start_2)*1000)"
   ]
  }
 ],
 "metadata": {
  "kernelspec": {
   "display_name": "Python 3 (ipykernel)",
   "language": "python",
   "name": "python3"
  },
  "language_info": {
   "codemirror_mode": {
    "name": "ipython",
    "version": 3
   },
   "file_extension": ".py",
   "mimetype": "text/x-python",
   "name": "python",
   "nbconvert_exporter": "python",
   "pygments_lexer": "ipython3",
   "version": "3.9.7"
  }
 },
 "nbformat": 4,
 "nbformat_minor": 5
}
