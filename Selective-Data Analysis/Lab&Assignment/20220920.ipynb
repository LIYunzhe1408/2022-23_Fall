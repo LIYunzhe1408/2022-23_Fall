{
 "cells": [
  {
   "cell_type": "markdown",
   "id": "ad1ccb12",
   "metadata": {},
   "source": [
    "## 字符串格式化"
   ]
  },
  {
   "cell_type": "code",
   "execution_count": 2,
   "id": "7a1605cb",
   "metadata": {},
   "outputs": [
    {
     "data": {
      "text/plain": [
       "'my name is Dong, and I am 39 years old'"
      ]
     },
     "execution_count": 2,
     "metadata": {},
     "output_type": "execute_result"
    }
   ],
   "source": [
    "name = 'Dong'\n",
    "age = 39\n",
    "f'my name is {name}, and I am {age} years old'"
   ]
  },
  {
   "cell_type": "code",
   "execution_count": 4,
   "id": "12912a58",
   "metadata": {},
   "outputs": [
    {
     "data": {
      "text/plain": [
       "'result:     3.667'"
      ]
     },
     "execution_count": 4,
     "metadata": {},
     "output_type": "execute_result"
    }
   ],
   "source": [
    "width = 10\n",
    "pre = 4\n",
    "value = 11/3\n",
    "f'result:{value:{width}.{pre}}'"
   ]
  },
  {
   "cell_type": "markdown",
   "id": "55f52a73",
   "metadata": {},
   "source": [
    "## find(), rfind(), index(), rindex(), count()..."
   ]
  },
  {
   "cell_type": "markdown",
   "id": "cd5d677f",
   "metadata": {},
   "source": [
    "## partition and split"
   ]
  },
  {
   "cell_type": "code",
   "execution_count": 8,
   "id": "1653425b",
   "metadata": {},
   "outputs": [
    {
     "data": {
      "text/plain": [
       "['a', '', '', 'b']"
      ]
     },
     "execution_count": 8,
     "metadata": {},
     "output_type": "execute_result"
    }
   ],
   "source": [
    "x = 'a\\t\\t\\tb'\n",
    "x.split('\\t')"
   ]
  },
  {
   "cell_type": "code",
   "execution_count": 11,
   "id": "74732b74",
   "metadata": {},
   "outputs": [
    {
     "data": {
      "text/plain": [
       "('a', '\\t', '\\t\\tb')"
      ]
     },
     "execution_count": 11,
     "metadata": {},
     "output_type": "execute_result"
    }
   ],
   "source": [
    "x.partition('\\t')"
   ]
  },
  {
   "cell_type": "markdown",
   "id": "69e1e650",
   "metadata": {},
   "source": [
    "## strip \n",
    "- strip(), delete continous letter.\n",
    "- lstrip(),\n",
    "- rstrip()"
   ]
  },
  {
   "cell_type": "code",
   "execution_count": 14,
   "id": "f6f379c9",
   "metadata": {},
   "outputs": [
    {
     "data": {
      "text/plain": [
       "'rmosadadankj'"
      ]
     },
     "execution_count": 14,
     "metadata": {},
     "output_type": "execute_result"
    }
   ],
   "source": [
    "a = 'aaaaaaaarmosadadankjfff'\n",
    "a.strip('af')"
   ]
  },
  {
   "cell_type": "markdown",
   "id": "4d43b74e",
   "metadata": {},
   "source": [
    "## startwith(t), endwith(t)"
   ]
  },
  {
   "cell_type": "code",
   "execution_count": 29,
   "id": "a40cc528",
   "metadata": {},
   "outputs": [
    {
     "name": "stdout",
     "output_type": "stream",
     "text": [
      "1.2  python语言基础.pdf\n",
      "第2章 Python序列--数据分析程序.pdf\n"
     ]
    }
   ],
   "source": [
    "import os\n",
    "for filename in os.listdir('./'):\n",
    "#     print(filename)\n",
    "    if filename.endswith('.pdf'):\n",
    "        print(filename)"
   ]
  },
  {
   "cell_type": "markdown",
   "id": "4f6c9acd",
   "metadata": {},
   "source": [
    "## isalnum(), isalpha()..."
   ]
  },
  {
   "cell_type": "markdown",
   "id": "6daf9d4d",
   "metadata": {},
   "source": [
    "## 正则表达式"
   ]
  },
  {
   "cell_type": "code",
   "execution_count": 30,
   "id": "2e0d21cf",
   "metadata": {},
   "outputs": [
    {
     "data": {
      "text/plain": [
       "'(http://)?(www\\\\.)?python\\\\.org'"
      ]
     },
     "execution_count": 30,
     "metadata": {},
     "output_type": "execute_result"
    }
   ],
   "source": [
    "import re\n",
    "r'(http://)?(www\\.)?python\\.org'"
   ]
  },
  {
   "cell_type": "markdown",
   "id": "9966a933",
   "metadata": {},
   "source": [
    "http://www.python.org, http://python.org, www.python.org, python.org"
   ]
  }
 ],
 "metadata": {
  "kernelspec": {
   "display_name": "Python 3 (ipykernel)",
   "language": "python",
   "name": "python3"
  },
  "language_info": {
   "codemirror_mode": {
    "name": "ipython",
    "version": 3
   },
   "file_extension": ".py",
   "mimetype": "text/x-python",
   "name": "python",
   "nbconvert_exporter": "python",
   "pygments_lexer": "ipython3",
   "version": "3.9.7"
  }
 },
 "nbformat": 4,
 "nbformat_minor": 5
}
