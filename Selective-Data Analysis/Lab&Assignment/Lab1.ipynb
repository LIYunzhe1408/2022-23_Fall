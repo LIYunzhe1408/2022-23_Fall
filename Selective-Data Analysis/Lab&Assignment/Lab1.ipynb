{
 "cells": [
  {
   "cell_type": "markdown",
   "id": "1ef6f20a",
   "metadata": {},
   "source": [
    "# Problem Description\n",
    "## Problem #1\n",
    "假设有一个6x6的棋盘，每个格子里有一个奖品（每个奖品的价值在100到1000之间），现在要求从左上角开始到右下角结束，每次只能往右或往下走一个格子，所经过的格子里的奖品归自己所有。问最多能收集价值多少的奖品."
   ]
  },
  {
   "attachments": {
    "image-2.png": {
     "image/png": "[encoded data removed]"
    }
   },
   "cell_type": "markdown",
   "id": "2a6b10c9",
   "metadata": {},
   "source": [
    "![image-2.png](attachment:image-2.png)"
   ]
  },
  {
   "cell_type": "markdown",
   "id": "6c7f560b",
   "metadata": {},
   "source": [
    "人为规定：奖品价格在所给区间内为整型变量，不会出现浮点数。"
   ]
  },
  {
   "cell_type": "code",
   "execution_count": 1,
   "id": "2f0b3682",
   "metadata": {},
   "outputs": [],
   "source": [
    "import random\n",
    "# [in] rows columns\n",
    "# [out] chessboard\n",
    "def GenerateAChessboard(rows, columns):\n",
    "    chessboard = []\n",
    "    for row in range(rows):\n",
    "        chessboard_column = [random.randint(100, 1000) for i in range(columns)]\n",
    "        chessboard.append(chessboard_column)\n",
    "    return chessboard\n",
    "\n",
    "# [in] rows columns\n",
    "# [out] chessboard\n",
    "# A more tidy way to generate a chessboard. And also a more common way to generate a 2-D array\n",
    "def GenerateAChessboard_Tidy(rows, columns):\n",
    "    chessboard = [[random.randint(100, 1000) for row in range(rows)] for column in range(columns)]\n",
    "    return chessboard"
   ]
  },
  {
   "cell_type": "code",
   "execution_count": 6,
   "id": "ab404708",
   "metadata": {},
   "outputs": [
    {
     "data": {
      "text/plain": [
       "[[498, 278, 581, 854, 924, 369],\n",
       " [318, 164, 214, 170, 743, 654],\n",
       " [423, 345, 416, 610, 159, 673],\n",
       " [447, 818, 526, 154, 477, 639],\n",
       " [787, 869, 964, 259, 352, 164],\n",
       " [654, 246, 393, 461, 487, 635]]"
      ]
     },
     "execution_count": 6,
     "metadata": {},
     "output_type": "execute_result"
    }
   ],
   "source": [
    "chessboard = GenerateAChessboard(6, 6)\n",
    "chessboard = GenerateAChessboard_Tidy(6, 6)\n",
    "chessboard"
   ]
  },
  {
   "cell_type": "markdown",
   "id": "261033a5",
   "metadata": {},
   "source": [
    "- 对于`chessboard[6][6]`而言，其最大值取决于其上方和左方的两个格子，即`chessboard[5][6]`或`chessboard[6][5]`；\n",
    "- 对于`chessboard[5][6]`和`chessboard[6][5]`而言，其值也取决于其上方和左方两个格子；\n",
    "- ... ...\n",
    "- 直到左方和上方超出边界时，终止递推。"
   ]
  },
  {
   "cell_type": "code",
   "execution_count": 3,
   "id": "b8c53bf7",
   "metadata": {},
   "outputs": [],
   "source": [
    "# [in] chessboard rows columns\n",
    "# [out] maxreward at this position\n",
    "def MaxReward(chessboard, row, column):\n",
    "    if row < 0 or column < 0:\n",
    "        return 0\n",
    "    else:\n",
    "        return chessboard[row][column] + max(MaxReward(chessboard, row-1, column), MaxReward(chessboard, row, column-1))"
   ]
  },
  {
   "cell_type": "code",
   "execution_count": 7,
   "id": "40f9bc9f",
   "metadata": {},
   "outputs": [],
   "source": [
    "# [in] chessboard\n",
    "# Show every elements in chessboard in a tidy way.\n",
    "def ShowChessboard(chessboard):\n",
    "    for element in chessboard:\n",
    "        print(element)"
   ]
  },
  {
   "cell_type": "markdown",
   "id": "218de044",
   "metadata": {},
   "source": [
    "Solution:"
   ]
  },
  {
   "cell_type": "code",
   "execution_count": 8,
   "id": "7c2b5de8",
   "metadata": {},
   "outputs": [
    {
     "name": "stdout",
     "output_type": "stream",
     "text": [
      "[498, 278, 581, 854, 924, 369]\n",
      "[318, 164, 214, 170, 743, 654]\n",
      "[423, 345, 416, 610, 159, 673]\n",
      "[447, 818, 526, 154, 477, 639]\n",
      "[787, 869, 964, 259, 352, 164]\n",
      "[654, 246, 393, 461, 487, 635]\n",
      "the max reward of the chessboard is:  6643\n"
     ]
    }
   ],
   "source": [
    "ShowChessboard(chessboard)\n",
    "reward = MaxReward(chessboard, 5, 5)\n",
    "print(\"the max reward of the chessboard is: \", reward)"
   ]
  },
  {
   "cell_type": "markdown",
   "id": "7aea754b",
   "metadata": {},
   "source": [
    "## Problem #2\n",
    "一进程刚获得3个主存块的使用权，若该进程访问页面的次序是1, 2, 3, 4, 1, 2, 5, 1, 2, 3, 4, 5。当采用LRU算法时，\n",
    "发生的缺页次数是多少？\n",
    "- 解析：所谓LRU算法，是指在发生缺页并且没有空闲主存块时，把最近最少使用的页面换出主存块，腾出地方来调入新页面。\n",
    "- 提示：可用列表切片模拟LRU算法的用法"
   ]
  },
  {
   "attachments": {
    "image.png": {
     "image/png": "[encoded data removed]"
    }
   },
   "cell_type": "markdown",
   "id": "b3457caf",
   "metadata": {},
   "source": [
    "### Initial status\n",
    "![image.png](attachment:image.png)"
   ]
  },
  {
   "attachments": {
    "image-2.png": {
     "image/png": "[encoded data removed]"
    },
    "image.png": {
     "image/png": "[encoded data removed]"
    }
   },
   "cell_type": "markdown",
   "id": "09516b57",
   "metadata": {},
   "source": [
    "### LRU使用时\n",
    "![image.png](attachment:image.png)\n",
    "![image-2.png](attachment:image-2.png)"
   ]
  },
  {
   "cell_type": "code",
   "execution_count": 9,
   "id": "e43d8fab",
   "metadata": {},
   "outputs": [
    {
     "name": "stdout",
     "output_type": "stream",
     "text": [
      "[1]  lost\n",
      "[1, 2]  lost\n",
      "[1, 2, 3]  lost\n",
      "[2, 3, 4]  lost\n",
      "[3, 4, 1]  lost\n",
      "[4, 1, 2]  lost\n",
      "[1, 2, 5]  lost\n",
      "[2, 5, 1]\n",
      "[5, 1, 2]\n",
      "[1, 2, 3]  lost\n",
      "[2, 3, 4]  lost\n",
      "[3, 4, 5]  lost\n",
      "10\n"
     ]
    }
   ],
   "source": [
    "visit_list = [1, 2, 3, 4, 1, 2, 5, 1, 2, 3, 4, 5]\n",
    "lost = 0\n",
    "for i in range(4):\n",
    "    if i == 0:\n",
    "        continue\n",
    "    print(visit_list[:i], \" lost\")\n",
    "    last_list = visit_list[:i]\n",
    "    lost += 1\n",
    "    \n",
    "for j in range(1, len(visit_list)-2):\n",
    "    isLost = False\n",
    "    current_list = visit_list[j:j+3]  # Generate current_list based on j.\n",
    "    for element in current_list:\n",
    "        if element not in last_list:\n",
    "            lost += 1\n",
    "            isLost = True\n",
    "            print(visit_list[j:j+3], \" lost\")\n",
    "            break\n",
    "    if not isLost:\n",
    "        print(visit_list[j:j+3])\n",
    "    last_list = current_list\n",
    "print(lost)"
   ]
  }
 ],
 "metadata": {
  "kernelspec": {
   "display_name": "Python 3 (ipykernel)",
   "language": "python",
   "name": "python3"
  },
  "language_info": {
   "codemirror_mode": {
    "name": "ipython",
    "version": 3
   },
   "file_extension": ".py",
   "mimetype": "text/x-python",
   "name": "python",
   "nbconvert_exporter": "python",
   "pygments_lexer": "ipython3",
   "version": "3.9.7"
  }
 },
 "nbformat": 4,
 "nbformat_minor": 5
}
