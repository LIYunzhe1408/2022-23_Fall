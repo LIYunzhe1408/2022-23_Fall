{
 "cells": [
  {
   "cell_type": "code",
   "execution_count": 10,
   "id": "66d16742",
   "metadata": {},
   "outputs": [
    {
     "name": "stdout",
     "output_type": "stream",
     "text": [
      "What do you want to know about Alex? \n",
      "Enter an attribute name>>>job\n",
      "actor\n"
     ]
    }
   ],
   "source": [
    "from typing import NamedTuple\n",
    "class Person(NamedTuple):\n",
    "    '''人类'''\n",
    "    name: str\n",
    "    age: int\n",
    "    job: str\n",
    "    weight: float\n",
    "    height: float\n",
    " \n",
    "alex = Person('Alex', 32, 'actor', 60, 178)\n",
    " \n",
    "# 把用户输入的字符串赋值给变量attribute_name\n",
    "attribute_name = input('''What do you want to know about Alex? \n",
    "Enter an attribute name>>>''')\n",
    "# 注意，上述字符串被传进了这个函数作为第二个参数\n",
    "# 第三个参数是属性不存在时返回的字符串\n",
    "print(getattr(alex,attribute_name, 'Sorry, this attribute does not exist.'))"
   ]
  },
  {
   "cell_type": "markdown",
   "id": "1b627556",
   "metadata": {},
   "source": [
    "is 用于判断是否为同一个（主要在判断None时使用），==用于判断是否相等"
   ]
  },
  {
   "cell_type": "code",
   "execution_count": 13,
   "id": "c7623af1",
   "metadata": {},
   "outputs": [
    {
     "name": "stdout",
     "output_type": "stream",
     "text": [
      "True\n",
      "True\n",
      "True\n",
      "False\n"
     ]
    }
   ],
   "source": [
    "a = 10\n",
    "b = 10\n",
    "print(a == b)\n",
    "print(a is b)\n",
    "a = [1, 2, 3]\n",
    "b = [1, 2, 3]\n",
    "print(a == b)\n",
    "print(a is b)"
   ]
  },
  {
   "cell_type": "markdown",
   "id": "635e675e",
   "metadata": {},
   "source": [
    "## List\n",
    "- list.append(x)\n",
    "- list.extend(L2)\n",
    "- list.insert(index, x)\n",
    "- list.remove(x) 首次出现的指定元素\n",
    "- list.pop([index]) 某位置pop\n",
    "- list.clear()\n",
    "- list.index(x)   首个元素下标\n",
    "- list.count(x)   x出现的次数\n",
    "- list.reverse()  原地逆序,自己自带的方法一般都是原地操作，对列表本身操作。不是创建一个新的列表。\n",
    "- list.sort()     原地排序\n",
    "- list.copy()     浅拷贝"
   ]
  },
  {
   "cell_type": "code",
   "execution_count": 14,
   "id": "e4f047d0",
   "metadata": {},
   "outputs": [
    {
     "data": {
      "text/plain": [
       "['h', 'e', 'l', 'l', 'o', ' ', 'w', 'o', 'r', 'l', 'd']"
      ]
     },
     "execution_count": 14,
     "metadata": {},
     "output_type": "execute_result"
    }
   ],
   "source": [
    "# 创建\n",
    "a_list = [] # 空列表\n",
    "a_list = ['a', 'b', 'example']\n",
    "\n",
    "# 元组是不可变的\n",
    "a_list = list((1, 2, 3, 4))\n",
    "\n",
    "# 强制转换\n",
    "list(range(1, 10, 2))\n",
    "list(\"hello world\")"
   ]
  },
  {
   "cell_type": "markdown",
   "id": "72abecce",
   "metadata": {},
   "source": [
    "range([start], stop, [step])函数\n",
    "- parameter1: 起始值\n",
    "- parameter2：终止值， 左闭右开\n",
    "- parameter3: 步长"
   ]
  },
  {
   "cell_type": "code",
   "execution_count": 22,
   "id": "e3e34cba",
   "metadata": {},
   "outputs": [
    {
     "name": "stdout",
     "output_type": "stream",
     "text": [
      "2\n",
      "range(0, 10)\n"
     ]
    },
    {
     "data": {
      "text/plain": [
       "range(0, 10)"
      ]
     },
     "execution_count": 22,
     "metadata": {},
     "output_type": "execute_result"
    }
   ],
   "source": [
    "a = range(1, 10, 1)\n",
    "print(a[1])\n",
    "b = range(10)\n",
    "print(b) # 用的时候才求值\n",
    "range(10)"
   ]
  },
  {
   "cell_type": "markdown",
   "id": "fb0a4cca",
   "metadata": {},
   "source": [
    "* 操作符创建一个新的列表，但里面的元素是引用"
   ]
  },
  {
   "cell_type": "code",
   "execution_count": 24,
   "id": "962b419b",
   "metadata": {},
   "outputs": [
    {
     "name": "stdout",
     "output_type": "stream",
     "text": [
      "[[1, 2, 3], [1, 2, 3], [1, 2, 3]]\n",
      "[[10, 2, 3], [10, 2, 3], [10, 2, 3]]\n"
     ]
    }
   ],
   "source": [
    "a = [[1, 2, 3]] * 3\n",
    "print(a)\n",
    "a[0][0] = 10\n",
    "print(a)"
   ]
  },
  {
   "cell_type": "markdown",
   "id": "b9dc9b71",
   "metadata": {},
   "source": [
    "## 自动内存分配导致的remove会不完全，删一个往前移动一格\n",
    "- 用切片\n",
    "```for i in x[::]```\n",
    "- 到着来\n"
   ]
  },
  {
   "cell_type": "markdown",
   "id": "4ea6c34b",
   "metadata": {},
   "source": [
    "## 列表倒退式"
   ]
  }
 ],
 "metadata": {
  "kernelspec": {
   "display_name": "Python 3 (ipykernel)",
   "language": "python",
   "name": "python3"
  },
  "language_info": {
   "codemirror_mode": {
    "name": "ipython",
    "version": 3
   },
   "file_extension": ".py",
   "mimetype": "text/x-python",
   "name": "python",
   "nbconvert_exporter": "python",
   "pygments_lexer": "ipython3",
   "version": "3.9.7"
  }
 },
 "nbformat": 4,
 "nbformat_minor": 5
}
